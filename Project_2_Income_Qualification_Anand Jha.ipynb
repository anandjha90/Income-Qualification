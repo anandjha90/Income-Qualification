{
 "cells": [
  {
   "cell_type": "code",
   "execution_count": 1,
   "metadata": {
    "colab": {
     "base_uri": "https://localhost:8080/",
     "height": 70
    },
    "colab_type": "code",
    "id": "b4srds4QuMCi",
    "outputId": "8afd2f3f-75cd-4471-ba29-0e0e50caabdc"
   },
   "outputs": [
    {
     "name": "stderr",
     "output_type": "stream",
     "text": [
      "/usr/local/lib/python3.6/dist-packages/statsmodels/tools/_testing.py:19: FutureWarning: pandas.util.testing is deprecated. Use the functions in the public API at pandas.testing instead.\n",
      "  import pandas.util.testing as tm\n"
     ]
    }
   ],
   "source": [
    "# Imporing required libraries\n",
    " \n",
    "import pandas as pd\n",
    "import numpy as np\n",
    "import matplotlib.pyplot as plt\n",
    "import seaborn as sns\n",
    "from sklearn.preprocessing import StandardScaler\n",
    "from sklearn.decomposition import PCA\n",
    "from sklearn.model_selection import StratifiedKFold, cross_val_score, RandomizedSearchCV\n",
    "from sklearn.ensemble import RandomForestClassifier\n",
    "from sklearn.metrics import f1_score"
   ]
  },
  {
   "cell_type": "markdown",
   "metadata": {
    "colab_type": "text",
    "id": "q8P8v6xa39-2"
   },
   "source": [
    "### Q1 Identify the output variable."
   ]
  },
  {
   "cell_type": "code",
   "execution_count": 2,
   "metadata": {
    "colab": {
     "base_uri": "https://localhost:8080/",
     "height": 244
    },
    "colab_type": "code",
    "id": "mT-v_varuMCw",
    "outputId": "a9bda15c-e0f8-4062-dbe5-eccdf5e08608"
   },
   "outputs": [
    {
     "data": {
      "text/html": [
       "<div>\n",
       "<style scoped>\n",
       "    .dataframe tbody tr th:only-of-type {\n",
       "        vertical-align: middle;\n",
       "    }\n",
       "\n",
       "    .dataframe tbody tr th {\n",
       "        vertical-align: top;\n",
       "    }\n",
       "\n",
       "    .dataframe thead th {\n",
       "        text-align: right;\n",
       "    }\n",
       "</style>\n",
       "<table border=\"1\" class=\"dataframe\">\n",
       "  <thead>\n",
       "    <tr style=\"text-align: right;\">\n",
       "      <th></th>\n",
       "      <th>Id</th>\n",
       "      <th>v2a1</th>\n",
       "      <th>hacdor</th>\n",
       "      <th>rooms</th>\n",
       "      <th>hacapo</th>\n",
       "      <th>v14a</th>\n",
       "      <th>refrig</th>\n",
       "      <th>v18q</th>\n",
       "      <th>v18q1</th>\n",
       "      <th>r4h1</th>\n",
       "      <th>r4h2</th>\n",
       "      <th>r4h3</th>\n",
       "      <th>r4m1</th>\n",
       "      <th>r4m2</th>\n",
       "      <th>r4m3</th>\n",
       "      <th>r4t1</th>\n",
       "      <th>r4t2</th>\n",
       "      <th>r4t3</th>\n",
       "      <th>tamhog</th>\n",
       "      <th>tamviv</th>\n",
       "      <th>escolari</th>\n",
       "      <th>rez_esc</th>\n",
       "      <th>hhsize</th>\n",
       "      <th>paredblolad</th>\n",
       "      <th>paredzocalo</th>\n",
       "      <th>paredpreb</th>\n",
       "      <th>pareddes</th>\n",
       "      <th>paredmad</th>\n",
       "      <th>paredzinc</th>\n",
       "      <th>paredfibras</th>\n",
       "      <th>paredother</th>\n",
       "      <th>pisomoscer</th>\n",
       "      <th>pisocemento</th>\n",
       "      <th>pisoother</th>\n",
       "      <th>pisonatur</th>\n",
       "      <th>pisonotiene</th>\n",
       "      <th>pisomadera</th>\n",
       "      <th>techozinc</th>\n",
       "      <th>techoentrepiso</th>\n",
       "      <th>techocane</th>\n",
       "      <th>...</th>\n",
       "      <th>meaneduc</th>\n",
       "      <th>instlevel1</th>\n",
       "      <th>instlevel2</th>\n",
       "      <th>instlevel3</th>\n",
       "      <th>instlevel4</th>\n",
       "      <th>instlevel5</th>\n",
       "      <th>instlevel6</th>\n",
       "      <th>instlevel7</th>\n",
       "      <th>instlevel8</th>\n",
       "      <th>instlevel9</th>\n",
       "      <th>bedrooms</th>\n",
       "      <th>overcrowding</th>\n",
       "      <th>tipovivi1</th>\n",
       "      <th>tipovivi2</th>\n",
       "      <th>tipovivi3</th>\n",
       "      <th>tipovivi4</th>\n",
       "      <th>tipovivi5</th>\n",
       "      <th>computer</th>\n",
       "      <th>television</th>\n",
       "      <th>mobilephone</th>\n",
       "      <th>qmobilephone</th>\n",
       "      <th>lugar1</th>\n",
       "      <th>lugar2</th>\n",
       "      <th>lugar3</th>\n",
       "      <th>lugar4</th>\n",
       "      <th>lugar5</th>\n",
       "      <th>lugar6</th>\n",
       "      <th>area1</th>\n",
       "      <th>area2</th>\n",
       "      <th>age</th>\n",
       "      <th>SQBescolari</th>\n",
       "      <th>SQBage</th>\n",
       "      <th>SQBhogar_total</th>\n",
       "      <th>SQBedjefe</th>\n",
       "      <th>SQBhogar_nin</th>\n",
       "      <th>SQBovercrowding</th>\n",
       "      <th>SQBdependency</th>\n",
       "      <th>SQBmeaned</th>\n",
       "      <th>agesq</th>\n",
       "      <th>Target</th>\n",
       "    </tr>\n",
       "  </thead>\n",
       "  <tbody>\n",
       "    <tr>\n",
       "      <th>0</th>\n",
       "      <td>ID_279628684</td>\n",
       "      <td>190000.0</td>\n",
       "      <td>0</td>\n",
       "      <td>3</td>\n",
       "      <td>0</td>\n",
       "      <td>1</td>\n",
       "      <td>1</td>\n",
       "      <td>0</td>\n",
       "      <td>NaN</td>\n",
       "      <td>0</td>\n",
       "      <td>1</td>\n",
       "      <td>1</td>\n",
       "      <td>0</td>\n",
       "      <td>0</td>\n",
       "      <td>0</td>\n",
       "      <td>0</td>\n",
       "      <td>1</td>\n",
       "      <td>1</td>\n",
       "      <td>1</td>\n",
       "      <td>1</td>\n",
       "      <td>10</td>\n",
       "      <td>NaN</td>\n",
       "      <td>1</td>\n",
       "      <td>1</td>\n",
       "      <td>0</td>\n",
       "      <td>0</td>\n",
       "      <td>0</td>\n",
       "      <td>0</td>\n",
       "      <td>0</td>\n",
       "      <td>0</td>\n",
       "      <td>0</td>\n",
       "      <td>1</td>\n",
       "      <td>0</td>\n",
       "      <td>0</td>\n",
       "      <td>0</td>\n",
       "      <td>0</td>\n",
       "      <td>0</td>\n",
       "      <td>0</td>\n",
       "      <td>1</td>\n",
       "      <td>0</td>\n",
       "      <td>...</td>\n",
       "      <td>10.0</td>\n",
       "      <td>0</td>\n",
       "      <td>0</td>\n",
       "      <td>0</td>\n",
       "      <td>1</td>\n",
       "      <td>0</td>\n",
       "      <td>0</td>\n",
       "      <td>0</td>\n",
       "      <td>0</td>\n",
       "      <td>0</td>\n",
       "      <td>1</td>\n",
       "      <td>1.000000</td>\n",
       "      <td>0</td>\n",
       "      <td>0</td>\n",
       "      <td>1</td>\n",
       "      <td>0</td>\n",
       "      <td>0</td>\n",
       "      <td>0</td>\n",
       "      <td>0</td>\n",
       "      <td>1</td>\n",
       "      <td>1</td>\n",
       "      <td>1</td>\n",
       "      <td>0</td>\n",
       "      <td>0</td>\n",
       "      <td>0</td>\n",
       "      <td>0</td>\n",
       "      <td>0</td>\n",
       "      <td>1</td>\n",
       "      <td>0</td>\n",
       "      <td>43</td>\n",
       "      <td>100</td>\n",
       "      <td>1849</td>\n",
       "      <td>1</td>\n",
       "      <td>100</td>\n",
       "      <td>0</td>\n",
       "      <td>1.000000</td>\n",
       "      <td>0.0</td>\n",
       "      <td>100.0</td>\n",
       "      <td>1849</td>\n",
       "      <td>4</td>\n",
       "    </tr>\n",
       "    <tr>\n",
       "      <th>1</th>\n",
       "      <td>ID_f29eb3ddd</td>\n",
       "      <td>135000.0</td>\n",
       "      <td>0</td>\n",
       "      <td>4</td>\n",
       "      <td>0</td>\n",
       "      <td>1</td>\n",
       "      <td>1</td>\n",
       "      <td>1</td>\n",
       "      <td>1.0</td>\n",
       "      <td>0</td>\n",
       "      <td>1</td>\n",
       "      <td>1</td>\n",
       "      <td>0</td>\n",
       "      <td>0</td>\n",
       "      <td>0</td>\n",
       "      <td>0</td>\n",
       "      <td>1</td>\n",
       "      <td>1</td>\n",
       "      <td>1</td>\n",
       "      <td>1</td>\n",
       "      <td>12</td>\n",
       "      <td>NaN</td>\n",
       "      <td>1</td>\n",
       "      <td>0</td>\n",
       "      <td>0</td>\n",
       "      <td>0</td>\n",
       "      <td>0</td>\n",
       "      <td>1</td>\n",
       "      <td>0</td>\n",
       "      <td>0</td>\n",
       "      <td>0</td>\n",
       "      <td>0</td>\n",
       "      <td>0</td>\n",
       "      <td>0</td>\n",
       "      <td>0</td>\n",
       "      <td>0</td>\n",
       "      <td>1</td>\n",
       "      <td>1</td>\n",
       "      <td>0</td>\n",
       "      <td>0</td>\n",
       "      <td>...</td>\n",
       "      <td>12.0</td>\n",
       "      <td>0</td>\n",
       "      <td>0</td>\n",
       "      <td>0</td>\n",
       "      <td>0</td>\n",
       "      <td>0</td>\n",
       "      <td>0</td>\n",
       "      <td>0</td>\n",
       "      <td>1</td>\n",
       "      <td>0</td>\n",
       "      <td>1</td>\n",
       "      <td>1.000000</td>\n",
       "      <td>0</td>\n",
       "      <td>0</td>\n",
       "      <td>1</td>\n",
       "      <td>0</td>\n",
       "      <td>0</td>\n",
       "      <td>0</td>\n",
       "      <td>0</td>\n",
       "      <td>1</td>\n",
       "      <td>1</td>\n",
       "      <td>1</td>\n",
       "      <td>0</td>\n",
       "      <td>0</td>\n",
       "      <td>0</td>\n",
       "      <td>0</td>\n",
       "      <td>0</td>\n",
       "      <td>1</td>\n",
       "      <td>0</td>\n",
       "      <td>67</td>\n",
       "      <td>144</td>\n",
       "      <td>4489</td>\n",
       "      <td>1</td>\n",
       "      <td>144</td>\n",
       "      <td>0</td>\n",
       "      <td>1.000000</td>\n",
       "      <td>64.0</td>\n",
       "      <td>144.0</td>\n",
       "      <td>4489</td>\n",
       "      <td>4</td>\n",
       "    </tr>\n",
       "    <tr>\n",
       "      <th>2</th>\n",
       "      <td>ID_68de51c94</td>\n",
       "      <td>NaN</td>\n",
       "      <td>0</td>\n",
       "      <td>8</td>\n",
       "      <td>0</td>\n",
       "      <td>1</td>\n",
       "      <td>1</td>\n",
       "      <td>0</td>\n",
       "      <td>NaN</td>\n",
       "      <td>0</td>\n",
       "      <td>0</td>\n",
       "      <td>0</td>\n",
       "      <td>0</td>\n",
       "      <td>1</td>\n",
       "      <td>1</td>\n",
       "      <td>0</td>\n",
       "      <td>1</td>\n",
       "      <td>1</td>\n",
       "      <td>1</td>\n",
       "      <td>1</td>\n",
       "      <td>11</td>\n",
       "      <td>NaN</td>\n",
       "      <td>1</td>\n",
       "      <td>0</td>\n",
       "      <td>0</td>\n",
       "      <td>0</td>\n",
       "      <td>0</td>\n",
       "      <td>1</td>\n",
       "      <td>0</td>\n",
       "      <td>0</td>\n",
       "      <td>0</td>\n",
       "      <td>1</td>\n",
       "      <td>0</td>\n",
       "      <td>0</td>\n",
       "      <td>0</td>\n",
       "      <td>0</td>\n",
       "      <td>0</td>\n",
       "      <td>1</td>\n",
       "      <td>0</td>\n",
       "      <td>0</td>\n",
       "      <td>...</td>\n",
       "      <td>11.0</td>\n",
       "      <td>0</td>\n",
       "      <td>0</td>\n",
       "      <td>0</td>\n",
       "      <td>0</td>\n",
       "      <td>1</td>\n",
       "      <td>0</td>\n",
       "      <td>0</td>\n",
       "      <td>0</td>\n",
       "      <td>0</td>\n",
       "      <td>2</td>\n",
       "      <td>0.500000</td>\n",
       "      <td>1</td>\n",
       "      <td>0</td>\n",
       "      <td>0</td>\n",
       "      <td>0</td>\n",
       "      <td>0</td>\n",
       "      <td>0</td>\n",
       "      <td>0</td>\n",
       "      <td>0</td>\n",
       "      <td>0</td>\n",
       "      <td>1</td>\n",
       "      <td>0</td>\n",
       "      <td>0</td>\n",
       "      <td>0</td>\n",
       "      <td>0</td>\n",
       "      <td>0</td>\n",
       "      <td>1</td>\n",
       "      <td>0</td>\n",
       "      <td>92</td>\n",
       "      <td>121</td>\n",
       "      <td>8464</td>\n",
       "      <td>1</td>\n",
       "      <td>0</td>\n",
       "      <td>0</td>\n",
       "      <td>0.250000</td>\n",
       "      <td>64.0</td>\n",
       "      <td>121.0</td>\n",
       "      <td>8464</td>\n",
       "      <td>4</td>\n",
       "    </tr>\n",
       "    <tr>\n",
       "      <th>3</th>\n",
       "      <td>ID_d671db89c</td>\n",
       "      <td>180000.0</td>\n",
       "      <td>0</td>\n",
       "      <td>5</td>\n",
       "      <td>0</td>\n",
       "      <td>1</td>\n",
       "      <td>1</td>\n",
       "      <td>1</td>\n",
       "      <td>1.0</td>\n",
       "      <td>0</td>\n",
       "      <td>2</td>\n",
       "      <td>2</td>\n",
       "      <td>1</td>\n",
       "      <td>1</td>\n",
       "      <td>2</td>\n",
       "      <td>1</td>\n",
       "      <td>3</td>\n",
       "      <td>4</td>\n",
       "      <td>4</td>\n",
       "      <td>4</td>\n",
       "      <td>9</td>\n",
       "      <td>1.0</td>\n",
       "      <td>4</td>\n",
       "      <td>1</td>\n",
       "      <td>0</td>\n",
       "      <td>0</td>\n",
       "      <td>0</td>\n",
       "      <td>0</td>\n",
       "      <td>0</td>\n",
       "      <td>0</td>\n",
       "      <td>0</td>\n",
       "      <td>1</td>\n",
       "      <td>0</td>\n",
       "      <td>0</td>\n",
       "      <td>0</td>\n",
       "      <td>0</td>\n",
       "      <td>0</td>\n",
       "      <td>1</td>\n",
       "      <td>0</td>\n",
       "      <td>0</td>\n",
       "      <td>...</td>\n",
       "      <td>11.0</td>\n",
       "      <td>0</td>\n",
       "      <td>0</td>\n",
       "      <td>0</td>\n",
       "      <td>1</td>\n",
       "      <td>0</td>\n",
       "      <td>0</td>\n",
       "      <td>0</td>\n",
       "      <td>0</td>\n",
       "      <td>0</td>\n",
       "      <td>3</td>\n",
       "      <td>1.333333</td>\n",
       "      <td>0</td>\n",
       "      <td>0</td>\n",
       "      <td>1</td>\n",
       "      <td>0</td>\n",
       "      <td>0</td>\n",
       "      <td>0</td>\n",
       "      <td>0</td>\n",
       "      <td>1</td>\n",
       "      <td>3</td>\n",
       "      <td>1</td>\n",
       "      <td>0</td>\n",
       "      <td>0</td>\n",
       "      <td>0</td>\n",
       "      <td>0</td>\n",
       "      <td>0</td>\n",
       "      <td>1</td>\n",
       "      <td>0</td>\n",
       "      <td>17</td>\n",
       "      <td>81</td>\n",
       "      <td>289</td>\n",
       "      <td>16</td>\n",
       "      <td>121</td>\n",
       "      <td>4</td>\n",
       "      <td>1.777778</td>\n",
       "      <td>1.0</td>\n",
       "      <td>121.0</td>\n",
       "      <td>289</td>\n",
       "      <td>4</td>\n",
       "    </tr>\n",
       "    <tr>\n",
       "      <th>4</th>\n",
       "      <td>ID_d56d6f5f5</td>\n",
       "      <td>180000.0</td>\n",
       "      <td>0</td>\n",
       "      <td>5</td>\n",
       "      <td>0</td>\n",
       "      <td>1</td>\n",
       "      <td>1</td>\n",
       "      <td>1</td>\n",
       "      <td>1.0</td>\n",
       "      <td>0</td>\n",
       "      <td>2</td>\n",
       "      <td>2</td>\n",
       "      <td>1</td>\n",
       "      <td>1</td>\n",
       "      <td>2</td>\n",
       "      <td>1</td>\n",
       "      <td>3</td>\n",
       "      <td>4</td>\n",
       "      <td>4</td>\n",
       "      <td>4</td>\n",
       "      <td>11</td>\n",
       "      <td>NaN</td>\n",
       "      <td>4</td>\n",
       "      <td>1</td>\n",
       "      <td>0</td>\n",
       "      <td>0</td>\n",
       "      <td>0</td>\n",
       "      <td>0</td>\n",
       "      <td>0</td>\n",
       "      <td>0</td>\n",
       "      <td>0</td>\n",
       "      <td>1</td>\n",
       "      <td>0</td>\n",
       "      <td>0</td>\n",
       "      <td>0</td>\n",
       "      <td>0</td>\n",
       "      <td>0</td>\n",
       "      <td>1</td>\n",
       "      <td>0</td>\n",
       "      <td>0</td>\n",
       "      <td>...</td>\n",
       "      <td>11.0</td>\n",
       "      <td>0</td>\n",
       "      <td>0</td>\n",
       "      <td>0</td>\n",
       "      <td>0</td>\n",
       "      <td>1</td>\n",
       "      <td>0</td>\n",
       "      <td>0</td>\n",
       "      <td>0</td>\n",
       "      <td>0</td>\n",
       "      <td>3</td>\n",
       "      <td>1.333333</td>\n",
       "      <td>0</td>\n",
       "      <td>0</td>\n",
       "      <td>1</td>\n",
       "      <td>0</td>\n",
       "      <td>0</td>\n",
       "      <td>0</td>\n",
       "      <td>0</td>\n",
       "      <td>1</td>\n",
       "      <td>3</td>\n",
       "      <td>1</td>\n",
       "      <td>0</td>\n",
       "      <td>0</td>\n",
       "      <td>0</td>\n",
       "      <td>0</td>\n",
       "      <td>0</td>\n",
       "      <td>1</td>\n",
       "      <td>0</td>\n",
       "      <td>37</td>\n",
       "      <td>121</td>\n",
       "      <td>1369</td>\n",
       "      <td>16</td>\n",
       "      <td>121</td>\n",
       "      <td>4</td>\n",
       "      <td>1.777778</td>\n",
       "      <td>1.0</td>\n",
       "      <td>121.0</td>\n",
       "      <td>1369</td>\n",
       "      <td>4</td>\n",
       "    </tr>\n",
       "  </tbody>\n",
       "</table>\n",
       "<p>5 rows × 143 columns</p>\n",
       "</div>"
      ],
      "text/plain": [
       "             Id      v2a1  hacdor  ...  SQBmeaned  agesq  Target\n",
       "0  ID_279628684  190000.0       0  ...      100.0   1849       4\n",
       "1  ID_f29eb3ddd  135000.0       0  ...      144.0   4489       4\n",
       "2  ID_68de51c94       NaN       0  ...      121.0   8464       4\n",
       "3  ID_d671db89c  180000.0       0  ...      121.0    289       4\n",
       "4  ID_d56d6f5f5  180000.0       0  ...      121.0   1369       4\n",
       "\n",
       "[5 rows x 143 columns]"
      ]
     },
     "execution_count": 2,
     "metadata": {
      "tags": []
     },
     "output_type": "execute_result"
    }
   ],
   "source": [
    "# Importing the data set\n",
    "income = pd.read_csv ('/Users/anandjha/Desktop/DataScience_SimpliLearn_Purdue_University/MachineLearning/Dataset for the project/train.csv')\n",
    "income.head () # reading first few rows of data"
   ]
  },
  {
   "cell_type": "markdown",
   "metadata": {
    "colab_type": "text",
    "id": "CkYornaX4KBC"
   },
   "source": [
    "\n",
    "From the above data we can see that the target variable is Target."
   ]
  },
  {
   "cell_type": "markdown",
   "metadata": {
    "colab_type": "text",
    "id": "I5TurJtz4gFq"
   },
   "source": [
    "### Q2 Understand the type of data."
   ]
  },
  {
   "cell_type": "code",
   "execution_count": 3,
   "metadata": {
    "colab": {
     "base_uri": "https://localhost:8080/",
     "height": 34
    },
    "colab_type": "code",
    "id": "WRwNmSTouMDJ",
    "outputId": "927fe21c-82ac-40d0-d307-449ea2669969"
   },
   "outputs": [
    {
     "name": "stdout",
     "output_type": "stream",
     "text": [
      "The shape of the data set is:  (9557, 143)\n"
     ]
    }
   ],
   "source": [
    "# Checking the shape of the data set\n",
    " \n",
    "print (\"The shape of the data set is: \", income.shape)"
   ]
  },
  {
   "cell_type": "markdown",
   "metadata": {
    "colab_type": "text",
    "id": "fv0XYVxguMDW"
   },
   "source": [
    "The data has 143 columns and 9557 observations."
   ]
  },
  {
   "cell_type": "code",
   "execution_count": 4,
   "metadata": {
    "colab": {
     "base_uri": "https://localhost:8080/",
     "height": 101
    },
    "colab_type": "code",
    "id": "EGPX9T1JuMDX",
    "outputId": "726aa4d9-7ad3-441c-e13d-706fc06aac6e"
   },
   "outputs": [
    {
     "name": "stdout",
     "output_type": "stream",
     "text": [
      "<class 'pandas.core.frame.DataFrame'>\n",
      "RangeIndex: 9557 entries, 0 to 9556\n",
      "Columns: 143 entries, Id to Target\n",
      "dtypes: float64(8), int64(130), object(5)\n",
      "memory usage: 10.4+ MB\n"
     ]
    }
   ],
   "source": [
    "# To view the complete data set\n",
    " \n",
    "pd.options.display.max_columns = 150\n",
    "pd.options.display.max_rows = 150\n",
    " \n",
    "# To view data type of columns\n",
    " \n",
    "income.info ()"
   ]
  },
  {
   "cell_type": "markdown",
   "metadata": {
    "colab_type": "text",
    "id": "4pG9biVO4rHq"
   },
   "source": [
    "There are total 8 float columns, 130 integer columns and 5 object columns."
   ]
  },
  {
   "cell_type": "markdown",
   "metadata": {
    "colab_type": "text",
    "id": "avf3jInF5F9F"
   },
   "source": [
    "### Q3 Check if there are any biases in your dataset."
   ]
  },
  {
   "cell_type": "code",
   "execution_count": 5,
   "metadata": {
    "colab": {
     "base_uri": "https://localhost:8080/",
     "height": 295
    },
    "colab_type": "code",
    "id": "0mg1K_q9uMC9",
    "outputId": "797c02d9-10d5-47af-8ff7-e5e690d90962"
   },
   "outputs": [
    {
     "data": {
      "image/png": "[encoded data removed]",
      "text/plain": [
       "<Figure size 432x288 with 1 Axes>"
      ]
     },
     "metadata": {
      "needs_background": "light",
      "tags": []
     },
     "output_type": "display_data"
    }
   ],
   "source": [
    "# checking the distribution of target variable\n",
    " \n",
    "target_counts = income.Target.value_counts ()\n",
    "plt.bar (target_counts.index, target_counts.values)\n",
    "plt.title ('Distribution of Target')\n",
    "plt.xlabel ('Target')\n",
    "plt.ylabel ('Frequency')\n",
    "plt.xticks (target_counts.index)\n",
    "plt.show ()"
   ]
  },
  {
   "cell_type": "markdown",
   "metadata": {
    "colab_type": "text",
    "id": "J9LlEja05PJ_"
   },
   "source": [
    "The distribution of the target variable above shows that the data is biased towards the 4th class as it has more number of observations than others."
   ]
  },
  {
   "cell_type": "markdown",
   "metadata": {
    "colab_type": "text",
    "id": "2QK3P7R3-Fwq"
   },
   "source": [
    "### Q4 Check whether all members of the house have the same poverty level."
   ]
  },
  {
   "cell_type": "code",
   "execution_count": 6,
   "metadata": {
    "colab": {
     "base_uri": "https://localhost:8080/",
     "height": 386
    },
    "colab_type": "code",
    "id": "4uYee-w4-Uye",
    "outputId": "07a1dfc7-8700-4233-df5c-9c967fbb97ab"
   },
   "outputs": [
    {
     "name": "stdout",
     "output_type": "stream",
     "text": [
      "\n",
      "Number of household at different poverty levels = 85\n",
      "\n",
      "List of households at different poverty levels =\n",
      " Index(['0172ab1d9', '03f4e5f4d', '0511912b6', '078a0b6e2', '09e25d616',\n",
      "       '0f3e65c83', '0f9494d3a', '15a891635', '17fb04a62', '18832b840',\n",
      "       '26b3a0f41', '288579c97', '28893b5e7', '2c9872b82', '2cb443214',\n",
      "       '309fb7246', '30a70901d', '3c6973219', '3c73c107f', '3df651058',\n",
      "       '3fe29a56b', '410194c8b', '417865404', '42ec8bef5', '43b9c83e5',\n",
      "       '44f219a16', '46af47063', '4b6077882', '4c2dba109', '4dc11e11f',\n",
      "       '4e19bd549', '50e064ee8', '513adb616', '54118d5d9', '55a662731',\n",
      "       '564eab113', '594d3eb27', '5c3f7725d', '5c6f32bbc', '5e9329fc6',\n",
      "       '614b48fb7', '636330516', '654ef7612', '67ad49822', '6833ac5dc',\n",
      "       '694a0cbf4', '6a389f3de', '6bcf799cf', '6c543442a', '71cd52a80',\n",
      "       '73d85d05d', '7ad269eef', '7c57f8237', '7e9d58c5c', '7ea6aca15',\n",
      "       '80a66379b', '811a35744', '8242a51ec', '8420bcfca', '8ae3e74ca',\n",
      "       '8bb6da3c1', '932287f5d', '9bbf7c6ca', 'a20ff33ba', 'a3288e6fa',\n",
      "       'a94a45642', 'bcaa2e2f5', 'bcab69521', 'bd82509d1', 'be91da044',\n",
      "       'c13325faf', 'c38913488', 'c7ce4e30c', 'cc971b690', 'd64524b6b',\n",
      "       'd9b1558b5', 'daafc1281', 'dfb966eec', 'e17b252ed', 'e235a4eec',\n",
      "       'e65d4b943', 'efd3aec61', 'f006348ed', 'f7b421c2c', 'f94589d38'],\n",
      "      dtype='object', name='idhogar')\n"
     ]
    }
   ],
   "source": [
    "house_pov = income.groupby ('idhogar').agg ({'Target' : 'nunique'}).Target\n",
    "print ('\\nNumber of household at different poverty levels =', (house_pov > 1).sum ())\n",
    "print ('\\nList of households at different poverty levels =\\n', house_pov [house_pov > 1].index)"
   ]
  },
  {
   "cell_type": "markdown",
   "metadata": {
    "colab_type": "text",
    "id": "d_4JYwZV_FI1"
   },
   "source": [
    "### Q5 Check if there is a house without a family head."
   ]
  },
  {
   "cell_type": "code",
   "execution_count": 7,
   "metadata": {
    "colab": {
     "base_uri": "https://localhost:8080/",
     "height": 151
    },
    "colab_type": "code",
    "id": "Zp9tn-G5_BwG",
    "outputId": "e3b1343b-9c1a-49c7-9140-a5baf3b6442c"
   },
   "outputs": [
    {
     "name": "stdout",
     "output_type": "stream",
     "text": [
      "\n",
      "Number of houses without a family head = 15\n",
      "\n",
      "List of houses without a family head =\n",
      " Index(['03c6bdf85', '09b195e7a', '1367ab31d', '1bc617b23', '374ca5a19',\n",
      "       '61c10e099', '6b1b2405f', '896fe6d3e', 'a0812ef17', 'ad687ad89',\n",
      "       'b1f4d89d7', 'bfd5067c2', 'c0c8a5013', 'd363d9183', 'f2bfa75c4'],\n",
      "      dtype='object', name='idhogar')\n"
     ]
    }
   ],
   "source": [
    "house_head_train = income.groupby ('idhogar').agg ({'parentesco1' : sum}).parentesco1\n",
    "print ('\\nNumber of houses without a family head =', (house_head_train == 0).sum ())\n",
    "print ('\\nList of houses without a family head =\\n', house_head_train [house_head_train == 0].index)"
   ]
  },
  {
   "cell_type": "markdown",
   "metadata": {
    "colab_type": "text",
    "id": "6PbxctP__Yrf"
   },
   "source": [
    "### Q6 Set poverty level of the members and the head of the house within a family."
   ]
  },
  {
   "cell_type": "code",
   "execution_count": 8,
   "metadata": {
    "colab": {
     "base_uri": "https://localhost:8080/",
     "height": 50
    },
    "colab_type": "code",
    "id": "xlnbHTI7_d15",
    "outputId": "729a7116-9e18-4dfe-b458-9fcfd88f278d"
   },
   "outputs": [
    {
     "name": "stdout",
     "output_type": "stream",
     "text": [
      "\n",
      "Number of household at different poverty levels = 0\n"
     ]
    }
   ],
   "source": [
    "for house in house_pov [house_pov > 1].index :\n",
    "    pov_level = income.loc [(income.idhogar == house) | (income.parentesco1 == 1), 'Target'].values [0]\n",
    "    income.loc [income.idhogar == house, 'Target'] = pov_level\n",
    "house_pov = income.groupby ('idhogar').agg ({'Target' : 'nunique'}).Target\n",
    "print ('\\nNumber of household at different poverty levels =', (house_pov > 1).sum ())"
   ]
  },
  {
   "cell_type": "markdown",
   "metadata": {
    "colab_type": "text",
    "id": "xqJmPFFg_7vD"
   },
   "source": [
    "### Q7 Count how many null values are existing in columns."
   ]
  },
  {
   "cell_type": "code",
   "execution_count": 9,
   "metadata": {
    "colab": {
     "base_uri": "https://localhost:8080/",
     "height": 118
    },
    "colab_type": "code",
    "id": "yiQmoHE3uMDk",
    "outputId": "26163e4c-2def-4a11-8d85-104a4d8d7641"
   },
   "outputs": [
    {
     "data": {
      "text/plain": [
       "v2a1         6860\n",
       "v18q1        7342\n",
       "rez_esc      7928\n",
       "meaneduc        5\n",
       "SQBmeaned       5\n",
       "dtype: int64"
      ]
     },
     "execution_count": 9,
     "metadata": {
      "tags": []
     },
     "output_type": "execute_result"
    }
   ],
   "source": [
    "# To check for count of missing values in the columns\n",
    " \n",
    "income.isna().sum () [income.isna ().any()]"
   ]
  },
  {
   "cell_type": "markdown",
   "metadata": {
    "colab_type": "text",
    "id": "2ufPcMWCuMDp"
   },
   "source": [
    "1. We can see that we have huge no. of missing values in the columns, v2a1, v18q1, rez_esc. Hence, we can drop these columns.\n",
    "2. We can also see missing values in meaneduc and SQBmeaned, having 5 missing values each. We can see the summary statistics of these columns to decide whether to replace with mean or median values."
   ]
  },
  {
   "cell_type": "markdown",
   "metadata": {
    "colab_type": "text",
    "id": "17c2wWAIAIgC"
   },
   "source": [
    "### Q8 Remove null value rows of the target variable."
   ]
  },
  {
   "cell_type": "markdown",
   "metadata": {
    "colab_type": "text",
    "id": "eUNin_hDALPw"
   },
   "source": [
    "As seen above there are no missing values in the Target variable but there are null values in other columns which we can remove."
   ]
  },
  {
   "cell_type": "code",
   "execution_count": 10,
   "metadata": {
    "colab": {},
    "colab_type": "code",
    "id": "4OkcTIb_uMD3"
   },
   "outputs": [],
   "source": [
    "# Dropping the columns v2a1 and rez_esc\n",
    " \n",
    "income.drop (columns = ['v2a1', 'v18q1', 'rez_esc'], inplace = True)"
   ]
  },
  {
   "cell_type": "code",
   "execution_count": 11,
   "metadata": {
    "colab": {
     "base_uri": "https://localhost:8080/",
     "height": 284
    },
    "colab_type": "code",
    "id": "7NmUZc1GuMED",
    "outputId": "69d02575-6e99-461f-d0e9-7dbadf605daa"
   },
   "outputs": [
    {
     "data": {
      "text/html": [
       "<div>\n",
       "<style scoped>\n",
       "    .dataframe tbody tr th:only-of-type {\n",
       "        vertical-align: middle;\n",
       "    }\n",
       "\n",
       "    .dataframe tbody tr th {\n",
       "        vertical-align: top;\n",
       "    }\n",
       "\n",
       "    .dataframe thead th {\n",
       "        text-align: right;\n",
       "    }\n",
       "</style>\n",
       "<table border=\"1\" class=\"dataframe\">\n",
       "  <thead>\n",
       "    <tr style=\"text-align: right;\">\n",
       "      <th></th>\n",
       "      <th>meaneduc</th>\n",
       "      <th>SQBmeaned</th>\n",
       "    </tr>\n",
       "  </thead>\n",
       "  <tbody>\n",
       "    <tr>\n",
       "      <th>count</th>\n",
       "      <td>9552.000000</td>\n",
       "      <td>9552.000000</td>\n",
       "    </tr>\n",
       "    <tr>\n",
       "      <th>mean</th>\n",
       "      <td>9.231523</td>\n",
       "      <td>102.588867</td>\n",
       "    </tr>\n",
       "    <tr>\n",
       "      <th>std</th>\n",
       "      <td>4.167694</td>\n",
       "      <td>93.516890</td>\n",
       "    </tr>\n",
       "    <tr>\n",
       "      <th>min</th>\n",
       "      <td>0.000000</td>\n",
       "      <td>0.000000</td>\n",
       "    </tr>\n",
       "    <tr>\n",
       "      <th>25%</th>\n",
       "      <td>6.000000</td>\n",
       "      <td>36.000000</td>\n",
       "    </tr>\n",
       "    <tr>\n",
       "      <th>50%</th>\n",
       "      <td>9.000000</td>\n",
       "      <td>81.000000</td>\n",
       "    </tr>\n",
       "    <tr>\n",
       "      <th>75%</th>\n",
       "      <td>11.600000</td>\n",
       "      <td>134.560010</td>\n",
       "    </tr>\n",
       "    <tr>\n",
       "      <th>max</th>\n",
       "      <td>37.000000</td>\n",
       "      <td>1369.000000</td>\n",
       "    </tr>\n",
       "  </tbody>\n",
       "</table>\n",
       "</div>"
      ],
      "text/plain": [
       "          meaneduc    SQBmeaned\n",
       "count  9552.000000  9552.000000\n",
       "mean      9.231523   102.588867\n",
       "std       4.167694    93.516890\n",
       "min       0.000000     0.000000\n",
       "25%       6.000000    36.000000\n",
       "50%       9.000000    81.000000\n",
       "75%      11.600000   134.560010\n",
       "max      37.000000  1369.000000"
      ]
     },
     "execution_count": 11,
     "metadata": {
      "tags": []
     },
     "output_type": "execute_result"
    }
   ],
   "source": [
    "# Checking the desciptive statistics of the 2 variables\n",
    " \n",
    "income [['meaneduc', 'SQBmeaned']].describe ()"
   ]
  },
  {
   "cell_type": "markdown",
   "metadata": {
    "colab_type": "text",
    "id": "K9N0KyYHuMEI"
   },
   "source": [
    "We can see that the data in the columns is skewed. We can replace the missing values using median values in the columns."
   ]
  },
  {
   "cell_type": "code",
   "execution_count": 12,
   "metadata": {
    "colab": {},
    "colab_type": "code",
    "id": "wN2xUwUkuMEI"
   },
   "outputs": [],
   "source": [
    "# Replacing missing values in columns meaneduc and SQBmeaned with median\n",
    " \n",
    "income.meaneduc = income.meaneduc.fillna (income.meaneduc.median ())\n",
    "income.SQBmeaned = income.SQBmeaned.fillna (income.SQBmeaned.median ())"
   ]
  },
  {
   "cell_type": "code",
   "execution_count": 13,
   "metadata": {
    "colab": {
     "base_uri": "https://localhost:8080/",
     "height": 402
    },
    "colab_type": "code",
    "id": "lKssLFy1uMEV",
    "outputId": "be23cdf8-877c-47b0-ead1-f2c25a0a38b2"
   },
   "outputs": [
    {
     "data": {
      "text/html": [
       "<div>\n",
       "<style scoped>\n",
       "    .dataframe tbody tr th:only-of-type {\n",
       "        vertical-align: middle;\n",
       "    }\n",
       "\n",
       "    .dataframe tbody tr th {\n",
       "        vertical-align: top;\n",
       "    }\n",
       "\n",
       "    .dataframe thead th {\n",
       "        text-align: right;\n",
       "    }\n",
       "</style>\n",
       "<table border=\"1\" class=\"dataframe\">\n",
       "  <thead>\n",
       "    <tr style=\"text-align: right;\">\n",
       "      <th></th>\n",
       "      <th>Id</th>\n",
       "      <th>idhogar</th>\n",
       "      <th>dependency</th>\n",
       "      <th>edjefe</th>\n",
       "      <th>edjefa</th>\n",
       "    </tr>\n",
       "  </thead>\n",
       "  <tbody>\n",
       "    <tr>\n",
       "      <th>0</th>\n",
       "      <td>ID_279628684</td>\n",
       "      <td>21eb7fcc1</td>\n",
       "      <td>no</td>\n",
       "      <td>10</td>\n",
       "      <td>no</td>\n",
       "    </tr>\n",
       "    <tr>\n",
       "      <th>1</th>\n",
       "      <td>ID_f29eb3ddd</td>\n",
       "      <td>0e5d7a658</td>\n",
       "      <td>8</td>\n",
       "      <td>12</td>\n",
       "      <td>no</td>\n",
       "    </tr>\n",
       "    <tr>\n",
       "      <th>2</th>\n",
       "      <td>ID_68de51c94</td>\n",
       "      <td>2c7317ea8</td>\n",
       "      <td>8</td>\n",
       "      <td>no</td>\n",
       "      <td>11</td>\n",
       "    </tr>\n",
       "    <tr>\n",
       "      <th>3</th>\n",
       "      <td>ID_d671db89c</td>\n",
       "      <td>2b58d945f</td>\n",
       "      <td>yes</td>\n",
       "      <td>11</td>\n",
       "      <td>no</td>\n",
       "    </tr>\n",
       "    <tr>\n",
       "      <th>4</th>\n",
       "      <td>ID_d56d6f5f5</td>\n",
       "      <td>2b58d945f</td>\n",
       "      <td>yes</td>\n",
       "      <td>11</td>\n",
       "      <td>no</td>\n",
       "    </tr>\n",
       "    <tr>\n",
       "      <th>...</th>\n",
       "      <td>...</td>\n",
       "      <td>...</td>\n",
       "      <td>...</td>\n",
       "      <td>...</td>\n",
       "      <td>...</td>\n",
       "    </tr>\n",
       "    <tr>\n",
       "      <th>9552</th>\n",
       "      <td>ID_d45ae367d</td>\n",
       "      <td>d6c086aa3</td>\n",
       "      <td>.25</td>\n",
       "      <td>9</td>\n",
       "      <td>no</td>\n",
       "    </tr>\n",
       "    <tr>\n",
       "      <th>9553</th>\n",
       "      <td>ID_c94744e07</td>\n",
       "      <td>d6c086aa3</td>\n",
       "      <td>.25</td>\n",
       "      <td>9</td>\n",
       "      <td>no</td>\n",
       "    </tr>\n",
       "    <tr>\n",
       "      <th>9554</th>\n",
       "      <td>ID_85fc658f8</td>\n",
       "      <td>d6c086aa3</td>\n",
       "      <td>.25</td>\n",
       "      <td>9</td>\n",
       "      <td>no</td>\n",
       "    </tr>\n",
       "    <tr>\n",
       "      <th>9555</th>\n",
       "      <td>ID_ced540c61</td>\n",
       "      <td>d6c086aa3</td>\n",
       "      <td>.25</td>\n",
       "      <td>9</td>\n",
       "      <td>no</td>\n",
       "    </tr>\n",
       "    <tr>\n",
       "      <th>9556</th>\n",
       "      <td>ID_a38c64491</td>\n",
       "      <td>d6c086aa3</td>\n",
       "      <td>.25</td>\n",
       "      <td>9</td>\n",
       "      <td>no</td>\n",
       "    </tr>\n",
       "  </tbody>\n",
       "</table>\n",
       "<p>9557 rows × 5 columns</p>\n",
       "</div>"
      ],
      "text/plain": [
       "                Id    idhogar dependency edjefe edjefa\n",
       "0     ID_279628684  21eb7fcc1         no     10     no\n",
       "1     ID_f29eb3ddd  0e5d7a658          8     12     no\n",
       "2     ID_68de51c94  2c7317ea8          8     no     11\n",
       "3     ID_d671db89c  2b58d945f        yes     11     no\n",
       "4     ID_d56d6f5f5  2b58d945f        yes     11     no\n",
       "...            ...        ...        ...    ...    ...\n",
       "9552  ID_d45ae367d  d6c086aa3        .25      9     no\n",
       "9553  ID_c94744e07  d6c086aa3        .25      9     no\n",
       "9554  ID_85fc658f8  d6c086aa3        .25      9     no\n",
       "9555  ID_ced540c61  d6c086aa3        .25      9     no\n",
       "9556  ID_a38c64491  d6c086aa3        .25      9     no\n",
       "\n",
       "[9557 rows x 5 columns]"
      ]
     },
     "execution_count": 13,
     "metadata": {
      "tags": []
     },
     "output_type": "execute_result"
    }
   ],
   "source": [
    "# Checking for values in each object type of columns\n",
    " \n",
    "income.select_dtypes (object)"
   ]
  },
  {
   "cell_type": "markdown",
   "metadata": {
    "colab_type": "text",
    "id": "sWvKdXVauMEa"
   },
   "source": [
    "##### We can see that the columns dependency, edjefe and edjefa have mix of numerical and categorical data. We need to treat them."
   ]
  },
  {
   "cell_type": "code",
   "execution_count": 14,
   "metadata": {
    "colab": {
     "base_uri": "https://localhost:8080/",
     "height": 151
    },
    "colab_type": "code",
    "id": "_8nxRgbquMEc",
    "outputId": "215fe98f-9cdc-4094-8319-807edb01f45d"
   },
   "outputs": [
    {
     "name": "stdout",
     "output_type": "stream",
     "text": [
      "['no' '8' 'yes' '3' '.5' '.25' '2' '.66666669' '.33333334' '1.5'\n",
      " '.40000001' '.75' '1.25' '.2' '2.5' '1.2' '4' '1.3333334' '2.25'\n",
      " '.22222222' '5' '.83333331' '.80000001' '6' '3.5' '1.6666666' '.2857143'\n",
      " '1.75' '.71428573' '.16666667' '.60000002']\n",
      "['10' '12' 'no' '11' '9' '15' '4' '6' '8' '17' '7' '16' '14' '5' '21' '2'\n",
      " '19' 'yes' '3' '18' '13' '20']\n",
      "['no' '11' '4' '10' '9' '15' '7' '14' '13' '8' '17' '6' '5' '3' '16' '19'\n",
      " 'yes' '21' '12' '2' '20' '18']\n"
     ]
    }
   ],
   "source": [
    "# checking for unique values in these columns\n",
    " \n",
    "print (income.dependency.unique ())\n",
    "print (income.edjefe.unique ())\n",
    "print (income.edjefa.unique ())"
   ]
  },
  {
   "cell_type": "markdown",
   "metadata": {
    "colab_type": "text",
    "id": "9oOpPTqOuMEh"
   },
   "source": [
    "1. SQBdependency column is equal to dependency squared as per description.\n",
    "2. The description of the columns edjefe, edjefa says that these are years of experience for males and females, yes= 1, no = 0, So, we need to replace yes with 1 and no with 0 and convert it into numeric type."
   ]
  },
  {
   "cell_type": "code",
   "execution_count": 15,
   "metadata": {
    "colab": {},
    "colab_type": "code",
    "id": "oXk0slDwuMEq"
   },
   "outputs": [],
   "source": [
    "# Using column SQBdependency to replace yes/no values in column dependency\n",
    " \n",
    "income2 = income [(income.dependency =='yes') | (income.dependency =='no')].copy ()\n",
    "income2.dependency = (income2.SQBdependency ** 0.5).astype (object)\n",
    "income.loc [income2.index, 'dependency'] = income2.dependency\n",
    "income = income.astype ({'dependency' : 'float64'})\n",
    " \n",
    "# Replacing yes= 1, no = 0 and converting the column into numeric type\n",
    " \n",
    "income.edjefe = income.edjefe.replace ({'yes' : '1', 'no' : '0'})\n",
    "income.edjefa = income.edjefa.replace ({'yes' : '1', 'no' : '0'})\n",
    "income = income.astype ({'edjefe' : 'int64', 'edjefa' : 'int64'})"
   ]
  },
  {
   "cell_type": "markdown",
   "metadata": {
    "colab_type": "text",
    "id": "kCkaazRw9xvf"
   },
   "source": [
    "Class no 4 has values much more than other classes. Hence, the data is biased."
   ]
  },
  {
   "cell_type": "code",
   "execution_count": 16,
   "metadata": {
    "colab": {
     "base_uri": "https://localhost:8080/",
     "height": 34
    },
    "colab_type": "code",
    "id": "MeRtK57Q-Ziu",
    "outputId": "ffd5c7bd-0845-44b1-d5f5-9ddba1955619"
   },
   "outputs": [
    {
     "data": {
      "text/plain": [
       "False"
      ]
     },
     "execution_count": 16,
     "metadata": {
      "tags": []
     },
     "output_type": "execute_result"
    }
   ],
   "source": [
    "# Checking if there is any null values remaining in the data\n",
    " \n",
    "income.isna().any ().any ()"
   ]
  },
  {
   "cell_type": "markdown",
   "metadata": {
    "colab_type": "text",
    "id": "P3xE6G4GAlgq"
   },
   "source": [
    "### Q9 Predict the accuracy using random forest classifier."
   ]
  },
  {
   "cell_type": "markdown",
   "metadata": {
    "colab_type": "text",
    "id": "sCxc4-9f-why"
   },
   "source": [
    "Before we build the model we must apply dimensionality reduction"
   ]
  },
  {
   "cell_type": "code",
   "execution_count": 17,
   "metadata": {
    "colab": {
     "base_uri": "https://localhost:8080/",
     "height": 34
    },
    "colab_type": "code",
    "id": "iYLVYMZIuMGy",
    "outputId": "a177cca4-8f2f-4e62-b615-20bd0f2181f6"
   },
   "outputs": [
    {
     "data": {
      "text/plain": [
       "(9557, 137)"
      ]
     },
     "execution_count": 17,
     "metadata": {
      "tags": []
     },
     "output_type": "execute_result"
    }
   ],
   "source": [
    "# Applying standard scaler and Principal component analysis\n",
    " \n",
    "sc = StandardScaler ()\n",
    "X_sc = sc.fit_transform (income.drop (columns = ['Target', 'Id', 'idhogar']))\n",
    "pca = PCA ()\n",
    "X_pca = pca.fit_transform (X_sc)\n",
    "X_pca.shape"
   ]
  },
  {
   "cell_type": "code",
   "execution_count": 18,
   "metadata": {
    "colab": {
     "base_uri": "https://localhost:8080/",
     "height": 356
    },
    "colab_type": "code",
    "id": "ylA1gO7duMG1",
    "outputId": "0bbedc85-da0f-4905-f853-0363e18b96d2"
   },
   "outputs": [
    {
     "data": {
      "image/png": "[encoded data removed]",
      "text/plain": [
       "<Figure size 1080x360 with 1 Axes>"
      ]
     },
     "metadata": {
      "needs_background": "light",
      "tags": []
     },
     "output_type": "display_data"
    }
   ],
   "source": [
    "pca_index = ['PC'+str (i) for i in range (1,138)]\n",
    "plt.figure (figsize=(15, 5))\n",
    "plt.bar (pca_index, pca.explained_variance_ratio_, color = 'b', label = 'Variance percentage')\n",
    "plt.step (pca_index, pca.explained_variance_ratio_.cumsum (), color = 'r', label = 'Cummulative Variance percentage')\n",
    "plt.xticks (rotation = 90)\n",
    "plt.xlabel ('Principal Component')\n",
    "plt.ylabel ('Explained variance percentage')\n",
    "plt.legend ()\n",
    "plt.show ()"
   ]
  },
  {
   "cell_type": "markdown",
   "metadata": {
    "colab_type": "text",
    "id": "kXWv1M3Z_0OW"
   },
   "source": [
    "We can take components which explains 80% of the variance in the data"
   ]
  },
  {
   "cell_type": "code",
   "execution_count": 19,
   "metadata": {
    "colab": {
     "base_uri": "https://localhost:8080/",
     "height": 34
    },
    "colab_type": "code",
    "id": "9PvhiGSduMG6",
    "outputId": "33234d36-ef04-4483-ac84-7173c32b5950"
   },
   "outputs": [
    {
     "data": {
      "text/plain": [
       "(9557, 55)"
      ]
     },
     "execution_count": 19,
     "metadata": {
      "tags": []
     },
     "output_type": "execute_result"
    }
   ],
   "source": [
    "# Reducing the dimensionality to explain 80% of the variance\n",
    " \n",
    "pca = PCA (n_components=0.8)\n",
    "X_pca = pca.fit_transform (X_sc)\n",
    "X_pca.shape"
   ]
  },
  {
   "cell_type": "code",
   "execution_count": 20,
   "metadata": {
    "colab": {
     "base_uri": "https://localhost:8080/",
     "height": 50
    },
    "colab_type": "code",
    "id": "HfDfTJ_6BfEO",
    "outputId": "a8ef7869-10f1-4de8-e551-fa1f74786b30"
   },
   "outputs": [
    {
     "name": "stdout",
     "output_type": "stream",
     "text": [
      "Accuracy of the model with the train data = 1.0\n",
      "Out of Box score (similar to accuracy with the test data) = 0.77011614523386\n"
     ]
    }
   ],
   "source": [
    "# Building the model and checking the accuracy\n",
    "\n",
    "y = income.Target\n",
    "rf = RandomForestClassifier (oob_score = True, random_state = 1).fit (X_pca, y)\n",
    "print ('Accuracy of the model with the train data =', rf.score (X_pca, y))\n",
    "print ('Out of Box score (similar to accuracy with the test data) =', rf.oob_score_)"
   ]
  },
  {
   "cell_type": "markdown",
   "metadata": {
    "colab_type": "text",
    "id": "kJ50IrHuCuxs"
   },
   "source": [
    "We get a test accuracy of 77% and train accuracy of 100% which looks like high variance but we need to check the results from cross validation to verify that."
   ]
  },
  {
   "cell_type": "markdown",
   "metadata": {
    "colab_type": "text",
    "id": "m3i_-FcSBaMP"
   },
   "source": [
    "### Q10 Check the accuracy using random forest with cross validation."
   ]
  },
  {
   "cell_type": "code",
   "execution_count": 21,
   "metadata": {
    "colab": {
     "base_uri": "https://localhost:8080/",
     "height": 50
    },
    "colab_type": "code",
    "id": "NX2O48YMKNAz",
    "outputId": "03184d98-cc70-474e-a507-e406c25c4f2b"
   },
   "outputs": [
    {
     "name": "stdout",
     "output_type": "stream",
     "text": [
      "The accuracy using 5 folds is [0.74947699 0.76569038 0.75771847 0.75614861 0.75248561]\n",
      "Mean accuracy of the model is 0.7563040117881721\n"
     ]
    }
   ],
   "source": [
    "skf = StratifiedKFold (n_splits=5, shuffle=True)\n",
    "score = cross_val_score (estimator=rf, X = X_pca, y = y, scoring = 'accuracy', cv = skf)\n",
    "print ('The accuracy using 5 folds is', score)\n",
    "print ('Mean accuracy of the model is', score.mean ())"
   ]
  },
  {
   "cell_type": "markdown",
   "metadata": {
    "colab_type": "text",
    "id": "vQlTFZdEA4Cc"
   },
   "source": [
    "We get a mean accuracy of 76% with Random Forest with no significant variance across 5 folds and hence, the results are stable.\n",
    "We can try some hyperparameter tuning to see if we can improve the results."
   ]
  },
  {
   "cell_type": "code",
   "execution_count": 22,
   "metadata": {
    "colab": {},
    "colab_type": "code",
    "id": "UMAqrybqDItc"
   },
   "outputs": [],
   "source": [
    "# Setting parameters for hyperparameter tuning\n",
    "\n",
    "params = {'n_estimators' : [100, 200, 300, 500], \n",
    "          'max_depth' : [5, 10, 15, 20, 25, 30, 40, 50, 70, 100, None], \n",
    "          'max_features' : ['log2', 'sqrt', None]}"
   ]
  },
  {
   "cell_type": "code",
   "execution_count": 23,
   "metadata": {
    "colab": {
     "base_uri": "https://localhost:8080/",
     "height": 218
    },
    "colab_type": "code",
    "id": "tIdtSuDrUfIn",
    "outputId": "017a46db-f544-454d-c90d-cafe5b029bfd"
   },
   "outputs": [
    {
     "name": "stdout",
     "output_type": "stream",
     "text": [
      "Accuracy at max_depth = 5, is 0.6717589201632311\n",
      "Accuracy at max_depth = 10, is 0.7077534791252486\n",
      "Accuracy at max_depth = 15, is 0.7486658993407973\n",
      "Accuracy at max_depth = 20, is 0.7595479753060583\n",
      "Accuracy at max_depth = 25, is 0.7675002615883646\n",
      "Accuracy at max_depth = 30, is 0.7719995814586167\n",
      "Accuracy at max_depth = 40, is 0.77011614523386\n",
      "Accuracy at max_depth = 50, is 0.77011614523386\n",
      "Accuracy at max_depth = 70, is 0.77011614523386\n",
      "Accuracy at max_depth = 100, is 0.77011614523386\n",
      "Accuracy at max_depth = None, is 0.77011614523386\n",
      "Best accuracy of 0.7719995814586167 is achieved at max_depth = 30\n"
     ]
    }
   ],
   "source": [
    "# Getting best max_depth\n",
    "\n",
    "score = []\n",
    "for max_depth in params ['max_depth'] :\n",
    "  rf2 = RandomForestClassifier (oob_score = True, max_depth = max_depth, random_state = 1).fit (X_pca, y)\n",
    "  score.append (rf2.oob_score_)\n",
    "  print ('Accuracy at max_depth = {}, is {}'.format (max_depth, score [-1]))\n",
    "best_max_depth = params ['max_depth'] [np.argmax (score)]\n",
    "print ('Best accuracy of {} is achieved at max_depth = {}'.format (np.max(score), best_max_depth))"
   ]
  },
  {
   "cell_type": "code",
   "execution_count": 24,
   "metadata": {
    "colab": {
     "base_uri": "https://localhost:8080/",
     "height": 84
    },
    "colab_type": "code",
    "id": "XmK8Z9GoXWtB",
    "outputId": "a8e87e36-d306-4ab1-c900-0c2e0ffa2063"
   },
   "outputs": [
    {
     "name": "stdout",
     "output_type": "stream",
     "text": [
      "Accuracy at max_features = log2, is 0.7591294339227791\n",
      "Accuracy at max_features = sqrt, is 0.7719995814586167\n",
      "Accuracy at max_features = None, is 0.7882180600606885\n",
      "Best accuracy of 0.7882180600606885 is achieved at max_features = None\n"
     ]
    }
   ],
   "source": [
    "# Getting best max_features\n",
    "\n",
    "score = []\n",
    "for max_features in params ['max_features'] :\n",
    "  rf2 = RandomForestClassifier (oob_score = True, \n",
    "                                max_depth = best_max_depth, \n",
    "                                max_features = max_features, \n",
    "                                random_state = 1).fit (X_pca, y)\n",
    "  score.append (rf2.oob_score_)\n",
    "  print ('Accuracy at max_features = {}, is {}'.format (max_features, score [-1]))\n",
    "best_max_features = params ['max_features'] [np.argmax (score)]\n",
    "print ('Best accuracy of {} is achieved at max_features = {}'.format (np.max(score), best_max_features))"
   ]
  },
  {
   "cell_type": "code",
   "execution_count": 25,
   "metadata": {
    "colab": {
     "base_uri": "https://localhost:8080/",
     "height": 101
    },
    "colab_type": "code",
    "id": "8CNopTV5YWik",
    "outputId": "6707c8b2-88f8-475e-e0b9-bb10047c879e"
   },
   "outputs": [
    {
     "name": "stdout",
     "output_type": "stream",
     "text": [
      "Accuracy at n_estimators = 100, is 0.7882180600606885\n",
      "Accuracy at n_estimators = 200, is 0.7907293083603641\n",
      "Accuracy at n_estimators = 300, is 0.7933451920058596\n",
      "Accuracy at n_estimators = 500, is 0.7938683687349587\n",
      "Best accuracy of 0.7938683687349587 is achieved at n_estimators = 500\n"
     ]
    }
   ],
   "source": [
    "# Getting best n_estimators\n",
    "\n",
    "score = []\n",
    "for n_estimators in params ['n_estimators'] :\n",
    "  rf2 = RandomForestClassifier (oob_score = True,\n",
    "                                n_estimators = n_estimators, \n",
    "                                max_depth = best_max_depth, \n",
    "                                max_features = best_max_features, \n",
    "                                random_state = 1).fit (X_pca, y)\n",
    "  score.append (rf2.oob_score_)\n",
    "  print ('Accuracy at n_estimators = {}, is {}'.format (n_estimators, score [-1]))\n",
    "best_n_estimators = params ['n_estimators'] [np.argmax (score)]\n",
    "print ('Best accuracy of {} is achieved at n_estimators = {}'.format (np.max(score), best_n_estimators))"
   ]
  },
  {
   "cell_type": "code",
   "execution_count": 26,
   "metadata": {
    "colab": {
     "base_uri": "https://localhost:8080/",
     "height": 67
    },
    "colab_type": "code",
    "id": "9WgENdZnE8_I",
    "outputId": "e4bd4c86-651d-43c2-c9c9-6c87e8c23db7"
   },
   "outputs": [
    {
     "name": "stdout",
     "output_type": "stream",
     "text": [
      "The accuracy using 5 folds is [0.77667364 0.7834728  0.78597593 0.77289377 0.78911565]\n",
      "Mean accuracy of the model is 0.7816263582999985\n",
      "Standard Deviation of accuracy of the model is 0.005986735705517089\n"
     ]
    }
   ],
   "source": [
    "# Checking final Cross Validation scores\n",
    "\n",
    "rf_final = RandomForestClassifier (oob_score = True,\n",
    "                                   n_estimators = best_n_estimators,\n",
    "                                   max_depth = best_max_depth,\n",
    "                                   max_features = best_max_features,\n",
    "                                   random_state = 1)\n",
    "skf = StratifiedKFold (n_splits=5, shuffle=True)\n",
    "score = cross_val_score (estimator=rf_final, X = X_pca, y = y, scoring = 'accuracy', cv = skf)\n",
    "print ('The accuracy using 5 folds is', score)\n",
    "print ('Mean accuracy of the model is', score.mean ())\n",
    "print ('Standard Deviation of accuracy of the model is', score.std ())"
   ]
  },
  {
   "cell_type": "markdown",
   "metadata": {
    "colab_type": "text",
    "id": "8rvgLnzaCbEI"
   },
   "source": [
    "This is the best model we get. We get the best accuracy score of ___. We can use this model to predict the test data"
   ]
  },
  {
   "cell_type": "code",
   "execution_count": 27,
   "metadata": {
    "colab": {
     "base_uri": "https://localhost:8080/",
     "height": 34
    },
    "colab_type": "code",
    "id": "D5dY5QOnSGhO",
    "outputId": "3a42ccd4-9496-485b-9a51-0cb98124114c"
   },
   "outputs": [
    {
     "data": {
      "text/plain": [
       "(23856, 142)"
      ]
     },
     "execution_count": 27,
     "metadata": {
      "tags": []
     },
     "output_type": "execute_result"
    }
   ],
   "source": [
    "# Importing test data\n",
    "\n",
    "income_test = pd.read_csv ('/Users/anandjha/Desktop/DataScience_SimpliLearn_Purdue_University/MachineLearning/Dataset for the project/test.csv')\n",
    "\n",
    "income_test.shape"
   ]
  },
  {
   "cell_type": "code",
   "execution_count": 28,
   "metadata": {
    "colab": {
     "base_uri": "https://localhost:8080/",
     "height": 118
    },
    "colab_type": "code",
    "id": "CTvZqxBIDzkF",
    "outputId": "679fb8a4-1f64-4ab0-bfd0-c09d6078e59a"
   },
   "outputs": [
    {
     "data": {
      "text/plain": [
       "v2a1         17403\n",
       "v18q1        18126\n",
       "rez_esc      19653\n",
       "meaneduc        31\n",
       "SQBmeaned       31\n",
       "dtype: int64"
      ]
     },
     "execution_count": 28,
     "metadata": {
      "tags": []
     },
     "output_type": "execute_result"
    }
   ],
   "source": [
    "# Checking for null values in the test data\n",
    " \n",
    "income_test.isna ().sum () [income_test.isna ().any()]"
   ]
  },
  {
   "cell_type": "code",
   "execution_count": 29,
   "metadata": {
    "colab": {},
    "colab_type": "code",
    "id": "95TjPSUPGkFs"
   },
   "outputs": [],
   "source": [
    "# Dropping the columns v2a1 and rez_esc\n",
    " \n",
    "income_test.drop (columns = ['v2a1', 'v18q1', 'rez_esc'], inplace = True)\n",
    " \n",
    "# Replacing missing values in columns meaneduc and SQBmeaned with median\n",
    " \n",
    "income_test.meaneduc = income_test.meaneduc.fillna (income_test.meaneduc.median ())\n",
    "income_test.SQBmeaned = income_test.SQBmeaned.fillna (income_test.SQBmeaned.median ())"
   ]
  },
  {
   "cell_type": "code",
   "execution_count": 30,
   "metadata": {
    "colab": {
     "base_uri": "https://localhost:8080/",
     "height": 402
    },
    "colab_type": "code",
    "id": "3hufpN30H1Rn",
    "outputId": "b756cdb1-5d7f-4984-a5ec-f64929150d51"
   },
   "outputs": [
    {
     "data": {
      "text/html": [
       "<div>\n",
       "<style scoped>\n",
       "    .dataframe tbody tr th:only-of-type {\n",
       "        vertical-align: middle;\n",
       "    }\n",
       "\n",
       "    .dataframe tbody tr th {\n",
       "        vertical-align: top;\n",
       "    }\n",
       "\n",
       "    .dataframe thead th {\n",
       "        text-align: right;\n",
       "    }\n",
       "</style>\n",
       "<table border=\"1\" class=\"dataframe\">\n",
       "  <thead>\n",
       "    <tr style=\"text-align: right;\">\n",
       "      <th></th>\n",
       "      <th>Id</th>\n",
       "      <th>idhogar</th>\n",
       "      <th>dependency</th>\n",
       "      <th>edjefe</th>\n",
       "      <th>edjefa</th>\n",
       "    </tr>\n",
       "  </thead>\n",
       "  <tbody>\n",
       "    <tr>\n",
       "      <th>0</th>\n",
       "      <td>ID_2f6873615</td>\n",
       "      <td>72958b30c</td>\n",
       "      <td>.5</td>\n",
       "      <td>no</td>\n",
       "      <td>17</td>\n",
       "    </tr>\n",
       "    <tr>\n",
       "      <th>1</th>\n",
       "      <td>ID_1c78846d2</td>\n",
       "      <td>72958b30c</td>\n",
       "      <td>.5</td>\n",
       "      <td>no</td>\n",
       "      <td>17</td>\n",
       "    </tr>\n",
       "    <tr>\n",
       "      <th>2</th>\n",
       "      <td>ID_e5442cf6a</td>\n",
       "      <td>72958b30c</td>\n",
       "      <td>.5</td>\n",
       "      <td>no</td>\n",
       "      <td>17</td>\n",
       "    </tr>\n",
       "    <tr>\n",
       "      <th>3</th>\n",
       "      <td>ID_a8db26a79</td>\n",
       "      <td>5b598fbc9</td>\n",
       "      <td>no</td>\n",
       "      <td>16</td>\n",
       "      <td>no</td>\n",
       "    </tr>\n",
       "    <tr>\n",
       "      <th>4</th>\n",
       "      <td>ID_a62966799</td>\n",
       "      <td>1e2fc704e</td>\n",
       "      <td>8</td>\n",
       "      <td>no</td>\n",
       "      <td>11</td>\n",
       "    </tr>\n",
       "    <tr>\n",
       "      <th>...</th>\n",
       "      <td>...</td>\n",
       "      <td>...</td>\n",
       "      <td>...</td>\n",
       "      <td>...</td>\n",
       "      <td>...</td>\n",
       "    </tr>\n",
       "    <tr>\n",
       "      <th>23851</th>\n",
       "      <td>ID_a065a7cad</td>\n",
       "      <td>3aa78c56b</td>\n",
       "      <td>.5</td>\n",
       "      <td>5</td>\n",
       "      <td>no</td>\n",
       "    </tr>\n",
       "    <tr>\n",
       "      <th>23852</th>\n",
       "      <td>ID_1a7c6953b</td>\n",
       "      <td>d237404b6</td>\n",
       "      <td>yes</td>\n",
       "      <td>6</td>\n",
       "      <td>no</td>\n",
       "    </tr>\n",
       "    <tr>\n",
       "      <th>23853</th>\n",
       "      <td>ID_07dbb4be2</td>\n",
       "      <td>d237404b6</td>\n",
       "      <td>yes</td>\n",
       "      <td>6</td>\n",
       "      <td>no</td>\n",
       "    </tr>\n",
       "    <tr>\n",
       "      <th>23854</th>\n",
       "      <td>ID_34d2ed046</td>\n",
       "      <td>d237404b6</td>\n",
       "      <td>yes</td>\n",
       "      <td>6</td>\n",
       "      <td>no</td>\n",
       "    </tr>\n",
       "    <tr>\n",
       "      <th>23855</th>\n",
       "      <td>ID_34754556f</td>\n",
       "      <td>d237404b6</td>\n",
       "      <td>yes</td>\n",
       "      <td>6</td>\n",
       "      <td>no</td>\n",
       "    </tr>\n",
       "  </tbody>\n",
       "</table>\n",
       "<p>23856 rows × 5 columns</p>\n",
       "</div>"
      ],
      "text/plain": [
       "                 Id    idhogar dependency edjefe edjefa\n",
       "0      ID_2f6873615  72958b30c         .5     no     17\n",
       "1      ID_1c78846d2  72958b30c         .5     no     17\n",
       "2      ID_e5442cf6a  72958b30c         .5     no     17\n",
       "3      ID_a8db26a79  5b598fbc9         no     16     no\n",
       "4      ID_a62966799  1e2fc704e          8     no     11\n",
       "...             ...        ...        ...    ...    ...\n",
       "23851  ID_a065a7cad  3aa78c56b         .5      5     no\n",
       "23852  ID_1a7c6953b  d237404b6        yes      6     no\n",
       "23853  ID_07dbb4be2  d237404b6        yes      6     no\n",
       "23854  ID_34d2ed046  d237404b6        yes      6     no\n",
       "23855  ID_34754556f  d237404b6        yes      6     no\n",
       "\n",
       "[23856 rows x 5 columns]"
      ]
     },
     "execution_count": 30,
     "metadata": {
      "tags": []
     },
     "output_type": "execute_result"
    }
   ],
   "source": [
    "# Checking for values in each object type of columns\n",
    " \n",
    "income_test.select_dtypes (object)"
   ]
  },
  {
   "cell_type": "code",
   "execution_count": 31,
   "metadata": {
    "colab": {},
    "colab_type": "code",
    "id": "6eZzRQGQGP-A"
   },
   "outputs": [],
   "source": [
    "# Using column SQBdependency to replace yes/no values in column dependency\n",
    " \n",
    "income2_test = income_test [(income_test.dependency =='yes') | (income_test.dependency =='no')].copy ()\n",
    "income2_test.dependency = (income2_test.SQBdependency ** 0.5).astype (object)\n",
    "income_test.loc [income2_test.index, 'dependency'] = income2_test.dependency\n",
    "income_test = income_test.astype ({'dependency' : 'float64'})\n",
    " \n",
    "# Replacing yes = 1, no = 0 and converting the column into numeric type\n",
    " \n",
    "income_test.edjefe = income_test.edjefe.replace ({'yes' : '1', 'no' : '0'})\n",
    "income_test.edjefa = income_test.edjefa.replace ({'yes' : '1', 'no' : '0'})\n",
    "income_test = income_test.astype ({'edjefe' : 'int64', 'edjefa' : 'int64'})"
   ]
  },
  {
   "cell_type": "code",
   "execution_count": 32,
   "metadata": {
    "colab": {},
    "colab_type": "code",
    "id": "6_SWNksqGQA5"
   },
   "outputs": [],
   "source": [
    "# Applying standard scaler and Principal component analysis on the test data\n",
    " \n",
    "sc_test = StandardScaler ()\n",
    "X_test_sc = sc_test.fit_transform (income_test.drop (columns = ['Id', 'idhogar']))\n",
    "X_test_pca = pca.transform (X_test_sc)\n",
    "\n",
    "# Fitting the train data to the final model\n",
    "\n",
    "rf_final.fit (X_pca, y)\n",
    "\n",
    "# Predicting the test data\n",
    " \n",
    "ypred = rf_final.predict (X_test_pca)"
   ]
  },
  {
   "cell_type": "code",
   "execution_count": 33,
   "metadata": {
    "colab": {
     "base_uri": "https://localhost:8080/",
     "height": 295
    },
    "colab_type": "code",
    "id": "DI8oVaIiGQDu",
    "outputId": "cde8de2f-37ca-4383-8161-8395cc66d983"
   },
   "outputs": [
    {
     "data": {
      "image/png": "[encoded data removed]",
      "text/plain": [
       "<Figure size 432x288 with 1 Axes>"
      ]
     },
     "metadata": {
      "needs_background": "light",
      "tags": []
     },
     "output_type": "display_data"
    }
   ],
   "source": [
    "# Distribution of classification in the test data\n",
    " \n",
    "Target_test = pd.Series (ypred)\n",
    "target_counts = Target_test.value_counts ()\n",
    "plt.bar (target_counts.index, target_counts.values)\n",
    "plt.title ('Distribution of Target')\n",
    "plt.xlabel ('Target')\n",
    "plt.ylabel ('Frequency')\n",
    "plt.xticks (target_counts.index)\n",
    "plt.show ()"
   ]
  },
  {
   "cell_type": "markdown",
   "metadata": {
    "colab_type": "text",
    "id": "GNPTpOqSKPXQ"
   },
   "source": [
    "Observations:\n",
    "1. Since, the data is biased. The class no 4 is predicted much more than others.\n",
    "2. We can create other models to treat this imbalance."
   ]
  }
 ],
 "metadata": {
  "colab": {
   "collapsed_sections": [],
   "name": "Copy of Project 2 - Income Qualification.ipynb",
   "provenance": []
  },
  "kernelspec": {
   "display_name": "Python 3",
   "language": "python",
   "name": "python3"
  },
  "language_info": {
   "codemirror_mode": {
    "name": "ipython",
    "version": 3
   },
   "file_extension": ".py",
   "mimetype": "text/x-python",
   "name": "python",
   "nbconvert_exporter": "python",
   "pygments_lexer": "ipython3",
   "version": "3.7.6"
  }
 },
 "nbformat": 4,
 "nbformat_minor": 1
}
